{
 "cells": [
  {
   "cell_type": "code",
   "execution_count": 1,
   "metadata": {},
   "outputs": [],
   "source": [
    "import sys\n",
    "from pprint import pprint\n",
    "from osgeo import gdal\n",
    "gdal.UseExceptions()\n",
    "from matplotlib import pyplot as plt\n",
    "import numpy as np\n"
   ]
  },
  {
   "cell_type": "code",
   "execution_count": 2,
   "metadata": {},
   "outputs": [
    {
     "name": "stderr",
     "output_type": "stream",
     "text": [
      "/home/heaven/anaconda3/envs/pytorch/lib/python3.9/site-packages/rasterio/__init__.py:220: NotGeoreferencedWarning: Dataset has no geotransform, gcps, or rpcs. The identity matrix be returned.\n",
      "  s = DatasetReader(path, driver=driver, sharing=sharing, **kwargs)\n"
     ]
    },
    {
     "name": "stdout",
     "output_type": "stream",
     "text": [
      "(32045, 50375, 3)\n",
      "lol\n"
     ]
    }
   ],
   "source": [
    "# opt = gdal.TranslateOptions(bandList=[1,2,3], format=\"png\", outputType=gdalconst.GDT_Byte)\n",
    "# gdal.Translate(\"84278T_001.jpg\", \"./local_imgs/84278T_001.tif\", options=opt)\n",
    "\n",
    "# with rasterio.open(\"s3://digpath-data/Standard/84278T_001.tif\") as data:\n",
    "    # img = data.read(window=Window.from_slices((50000, 70000), (50000, 70000)))\n",
    "#     img = data.read()\n",
    "\n",
    "# img = np.moveaxis(img, 0, -1)\n",
    "\n",
    "# f = tables.open_file(\"84278T_001.h5\", mode=\"w\")\n",
    "# gcolumns = f.create_group(f.root, \"columns\", \"data\")\n",
    "# f.create_array(gcolumns, \"data\", img, \"data\")\n",
    "# f.close()\n",
    "\n",
    "\n",
    "# zarr.save(\"84278T_001.zarr\", img)\n",
    "\n",
    "# print(img.shape)\n",
    "\n",
    "# plt.imshow(img)\n",
    "# plt.show()\n",
    "\n",
    "# print(\"lol\")\n"
   ]
  },
  {
   "cell_type": "code",
   "execution_count": 4,
   "metadata": {},
   "outputs": [
    {
     "name": "stdout",
     "output_type": "stream",
     "text": [
      "(32045, 50375, 3)\n"
     ]
    }
   ],
   "source": [
    "# out = zarr.load(\"84278T_001.zarr\")\n",
    "\n",
    "# print(out.shape)"
   ]
  },
  {
   "cell_type": "code",
   "execution_count": 4,
   "metadata": {},
   "outputs": [
    {
     "ename": "AttributeError",
     "evalue": "'NoneType' object has no attribute 'ReadAsArray'",
     "output_type": "error",
     "traceback": [
      "\u001b[0;31m---------------------------------------------------------------------------\u001b[0m",
      "\u001b[0;31mAttributeError\u001b[0m                            Traceback (most recent call last)",
      "\u001b[0;32m/tmp/ipykernel_3986/1444216918.py\u001b[0m in \u001b[0;36m<module>\u001b[0;34m\u001b[0m\n\u001b[1;32m      6\u001b[0m \u001b[0;34m\u001b[0m\u001b[0m\n\u001b[1;32m      7\u001b[0m \u001b[0mxoff\u001b[0m\u001b[0;34m,\u001b[0m \u001b[0myoff\u001b[0m\u001b[0;34m,\u001b[0m \u001b[0mxcount\u001b[0m\u001b[0;34m,\u001b[0m \u001b[0mycount\u001b[0m \u001b[0;34m=\u001b[0m \u001b[0;34m(\u001b[0m\u001b[0;36m10000\u001b[0m\u001b[0;34m,\u001b[0m \u001b[0;36m10000\u001b[0m\u001b[0;34m,\u001b[0m \u001b[0;36m10000\u001b[0m\u001b[0;34m,\u001b[0m \u001b[0;36m10000\u001b[0m\u001b[0;34m)\u001b[0m\u001b[0;34m\u001b[0m\u001b[0;34m\u001b[0m\u001b[0m\n\u001b[0;32m----> 8\u001b[0;31m \u001b[0mnp_array\u001b[0m \u001b[0;34m=\u001b[0m \u001b[0mds\u001b[0m\u001b[0;34m.\u001b[0m\u001b[0mReadAsArray\u001b[0m\u001b[0;34m(\u001b[0m\u001b[0mxoff\u001b[0m\u001b[0;34m,\u001b[0m \u001b[0myoff\u001b[0m\u001b[0;34m,\u001b[0m \u001b[0mxcount\u001b[0m\u001b[0;34m,\u001b[0m \u001b[0mycount\u001b[0m\u001b[0;34m)\u001b[0m\u001b[0;34m\u001b[0m\u001b[0;34m\u001b[0m\u001b[0m\n\u001b[0m\u001b[1;32m      9\u001b[0m \u001b[0;34m\u001b[0m\u001b[0m\n\u001b[1;32m     10\u001b[0m \u001b[0mnp_array\u001b[0m \u001b[0;34m=\u001b[0m \u001b[0mnp\u001b[0m\u001b[0;34m.\u001b[0m\u001b[0mmoveaxis\u001b[0m\u001b[0;34m(\u001b[0m\u001b[0mnp_array\u001b[0m\u001b[0;34m,\u001b[0m \u001b[0;36m0\u001b[0m\u001b[0;34m,\u001b[0m \u001b[0;34m-\u001b[0m\u001b[0;36m1\u001b[0m\u001b[0;34m)\u001b[0m\u001b[0;34m\u001b[0m\u001b[0;34m\u001b[0m\u001b[0m\n",
      "\u001b[0;31mAttributeError\u001b[0m: 'NoneType' object has no attribute 'ReadAsArray'"
     ]
    }
   ],
   "source": [
    "from osgeo import gdal\n",
    "import numpy as np\n",
    "\n",
    "path = '/vsis3/digpath-data/Standard/84278T_001.tif'\n",
    "ds = gdal.Open(path)\n",
    "\n",
    "xoff, yoff, xcount, ycount = (10000, 10000, 10000, 10000)\n",
    "np_array = ds.ReadAsArray(xoff, yoff, xcount, ycount)\n",
    "\n",
    "np_array = np.moveaxis(np_array, 0, -1)\n",
    "\n",
    "plt.imshow(np_array)\n",
    "plt.show()\n",
    "\n",
    "plt.imsave(\"84278T_001.png\", np_array)\n"
   ]
  }
 ],
 "metadata": {
  "interpreter": {
   "hash": "faaa39337927af871b0c32f8153962e7778efa89f982ff399e4823a2962553f9"
  },
  "kernelspec": {
   "display_name": "Python 3.9.7 64-bit ('pytorch': conda)",
   "language": "python",
   "name": "python3"
  },
  "language_info": {
   "codemirror_mode": {
    "name": "ipython",
    "version": 3
   },
   "file_extension": ".py",
   "mimetype": "text/x-python",
   "name": "python",
   "nbconvert_exporter": "python",
   "pygments_lexer": "ipython3",
   "version": "3.9.7"
  },
  "orig_nbformat": 4
 },
 "nbformat": 4,
 "nbformat_minor": 2
}
