{
 "cells": [
  {
   "cell_type": "code",
   "execution_count": 1,
   "metadata": {},
   "outputs": [],
   "source": [
    "import sys\n",
    "from pprint import pprint\n",
    "from osgeo import gdal\n",
    "gdal.UseExceptions()\n",
    "from matplotlib import pyplot as plt\n",
    "import numpy as np\n",
    "import boto3\n",
    "import os\n"
   ]
  },
  {
   "cell_type": "code",
   "execution_count": 2,
   "metadata": {},
   "outputs": [],
   "source": [
    "# opt = gdal.TranslateOptions(bandList=[1,2,3], format=\"png\", outputType=gdalconst.GDT_Byte)\n",
    "# gdal.Translate(\"84278T_001.jpg\", \"./local_imgs/84278T_001.tif\", options=opt)\n",
    "\n",
    "# with rasterio.open(\"s3://digpath-data/Standard/84278T_001.tif\") as data:\n",
    "#     img = data.read(window=Window.from_slices((50000, 70000), (50000, 70000)))\n",
    "#     img = data.read()\n",
    "\n",
    "# img = np.moveaxis(img, 0, -1)\n",
    "\n",
    "# f = tables.open_file(\"84278T_001.h5\", mode=\"w\")\n",
    "# gcolumns = f.create_group(f.root, \"columns\", \"data\")\n",
    "# f.create_array(gcolumns, \"data\", img, \"data\")\n",
    "# f.close()\n",
    "\n",
    "\n",
    "# zarr.save(\"84278T_001.zarr\", img)\n",
    "\n",
    "# print(img.shape)\n",
    "\n",
    "# plt.imshow(img)\n",
    "# plt.show()\n",
    "\n",
    "# print(\"lol\")\n"
   ]
  },
  {
   "cell_type": "code",
   "execution_count": 7,
   "metadata": {},
   "outputs": [],
   "source": [
    "path = '/vsis3/digpath-data/Standard/84278T_001.tif'\n",
    "ds = gdal.Open(path)\n",
    "\n",
    "\n",
    "xoff, yoff, xcount, ycount = (10000, 10000, 10000, 10000)\n",
    "\n",
    "# produces a (3, x, y) matrix\n",
    "np_array = ds.ReadAsArray(xoff, yoff, xcount, ycount)\n",
    "\n",
    "# transforms (3, x, y) matrix to (x, y, 3)\n",
    "np_array = np.moveaxis(np_array, 0, -1)\n",
    "\n",
    "plt.imshow(np_array)\n",
    "plt.show()\n",
    "\n",
    "plt.imsave(\"84278T_001.png\", np_array)\n"
   ]
  }
 ],
 "metadata": {
  "interpreter": {
   "hash": "faaa39337927af871b0c32f8153962e7778efa89f982ff399e4823a2962553f9"
  },
  "kernelspec": {
   "display_name": "Python 3.9.7 64-bit ('pytorch': conda)",
   "language": "python",
   "name": "python3"
  },
  "language_info": {
   "codemirror_mode": {
    "name": "ipython",
    "version": 3
   },
   "file_extension": ".py",
   "mimetype": "text/x-python",
   "name": "python",
   "nbconvert_exporter": "python",
   "pygments_lexer": "ipython3",
   "version": "3.9.7"
  },
  "orig_nbformat": 4
 },
 "nbformat": 4,
 "nbformat_minor": 2
}
