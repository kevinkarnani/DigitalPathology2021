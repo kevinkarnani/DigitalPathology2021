{
 "cells": [
  {
   "cell_type": "code",
   "execution_count": 38,
   "metadata": {},
   "outputs": [],
   "source": [
    "import torch\n",
    "from torch.utils.data import DataLoader\n",
    "from torchvision.transforms import ToTensor, Lambda, Compose\n",
    "import matplotlib.pyplot as plt\n",
    "import boto3\n",
    "import numpy\n",
    "import openslide\n",
    "from PIL import Image\n",
    "import sklearn\n",
    "from skimage import data, io, filters\n",
    "import os\n",
    "from pathLib import Path"
   ]
  },
  {
   "cell_type": "code",
   "execution_count": 40,
   "metadata": {},
   "outputs": [
    {
     "name": "stdout",
     "output_type": "stream",
     "text": [
      "aws-cloudtrail-logs-432722299252-98c79c6c\n",
      "digpath-data\n",
      "sagemaker-studio-432722299252-gmvals4z90t\n",
      "sagemaker-us-east-1-432722299252\n"
     ]
    }
   ],
   "source": [
    "s3 = boto3.resource('s3')\n",
    "for bucket in s3.buckets.all():\n",
    "    print(bucket.name)"
   ]
  },
  {
   "cell_type": "code",
   "execution_count": null,
   "metadata": {},
   "outputs": [],
   "source": [
    "bucket = s3.Bucket(\"digpath-data\")\n",
    "for x, idx in enumerate(bucket.objects.all()):\n",
    "    if 'Standard' in x.key:\n",
    "            with open('test-' + idx + '.txt', 'wb') as data:\n",
    "                s3.download_fileobj('digipath-data', key , data)"
   ]
  },
  {
   "cell_type": "code",
   "execution_count": 2,
   "metadata": {},
   "outputs": [],
   "source": []
  },
  {
   "cell_type": "code",
   "execution_count": 3,
   "metadata": {},
   "outputs": [
    {
     "ename": "ValueError",
     "evalue": "attempted relative import beyond top-level package",
     "output_type": "error",
     "traceback": [
      "\u001b[0;31m---------------------------------------------------------------------------\u001b[0m",
      "\u001b[0;31mValueError\u001b[0m                                Traceback (most recent call last)",
      "\u001b[0;32m<ipython-input-3-88f6e52fd1a0>\u001b[0m in \u001b[0;36m<module>\u001b[0;34m\u001b[0m\n\u001b[0;32m----> 1\u001b[0;31m \u001b[0;32mfrom\u001b[0m \u001b[0;34m.\u001b[0m\u001b[0;34m.\u001b[0m\u001b[0mpython_wsi_preprocessing\u001b[0m\u001b[0;34m.\u001b[0m\u001b[0mdeephistopath\u001b[0m\u001b[0;34m.\u001b[0m\u001b[0mwsi\u001b[0m \u001b[0;32mimport\u001b[0m \u001b[0mslide\u001b[0m\u001b[0;34m\u001b[0m\u001b[0;34m\u001b[0m\u001b[0m\n\u001b[0m\u001b[1;32m      2\u001b[0m \u001b[0;32mfrom\u001b[0m \u001b[0;34m.\u001b[0m\u001b[0;34m.\u001b[0m\u001b[0mpython_wsi_preprocessing\u001b[0m\u001b[0;34m.\u001b[0m\u001b[0mdeephistopath\u001b[0m\u001b[0;34m.\u001b[0m\u001b[0mwsi\u001b[0m \u001b[0;32mimport\u001b[0m \u001b[0mfilter\u001b[0m\u001b[0;34m\u001b[0m\u001b[0;34m\u001b[0m\u001b[0m\n\u001b[1;32m      3\u001b[0m \u001b[0;32mfrom\u001b[0m \u001b[0;34m.\u001b[0m\u001b[0;34m.\u001b[0m\u001b[0mpython_wsi_preprocessing\u001b[0m\u001b[0;34m.\u001b[0m\u001b[0mdeephistopath\u001b[0m\u001b[0;34m.\u001b[0m\u001b[0mwsi\u001b[0m \u001b[0;32mimport\u001b[0m \u001b[0mtiles\u001b[0m\u001b[0;34m\u001b[0m\u001b[0;34m\u001b[0m\u001b[0m\n\u001b[1;32m      4\u001b[0m \u001b[0;32mfrom\u001b[0m \u001b[0;34m.\u001b[0m\u001b[0;34m.\u001b[0m\u001b[0mpython_wsi_preprocessing\u001b[0m\u001b[0;34m.\u001b[0m\u001b[0mdeephistopath\u001b[0m\u001b[0;34m.\u001b[0m\u001b[0mwsi\u001b[0m \u001b[0;32mimport\u001b[0m \u001b[0mutil\u001b[0m\u001b[0;34m\u001b[0m\u001b[0;34m\u001b[0m\u001b[0m\n",
      "\u001b[0;31mValueError\u001b[0m: attempted relative import beyond top-level package"
     ]
    }
   ],
   "source": [
    "from ..python_wsi_preprocessing.deephistopath.wsi import slide\n",
    "from ..python_wsi_preprocessing.deephistopath.wsi import filter\n",
    "from ..python_wsi_preprocessing.deephistopath.wsi import tiles\n",
    "from ..python_wsi_preprocessing.deephistopath.wsi import util\n"
   ]
  },
  {
   "cell_type": "code",
   "execution_count": null,
   "metadata": {},
   "outputs": [],
   "source": []
  }
 ],
 "metadata": {
  "instance_type": "ml.g4dn.xlarge",
  "kernelspec": {
   "display_name": "Python 3 (PyTorch 1.6 Python 3.6 GPU Optimized)",
   "language": "python",
   "name": "python3__SAGEMAKER_INTERNAL__arn:aws:sagemaker:us-east-1:081325390199:image/pytorch-1.6-gpu-py36-cu110-ubuntu18.04-v3"
  },
  "language_info": {
   "codemirror_mode": {
    "name": "ipython",
    "version": 3
   },
   "file_extension": ".py",
   "mimetype": "text/x-python",
   "name": "python",
   "nbconvert_exporter": "python",
   "pygments_lexer": "ipython3",
   "version": "3.6.13"
  },
  "lcc_arn": "arn:aws:sagemaker:us-east-1:432722299252:studio-lifecycle-config/adins-test-install-thing"
 },
 "nbformat": 4,
 "nbformat_minor": 4
}
