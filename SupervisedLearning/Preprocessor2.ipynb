{
 "cells": [
  {
   "cell_type": "code",
   "execution_count": 37,
   "metadata": {},
   "outputs": [
    {
     "name": "stdout",
     "output_type": "stream",
     "text": [
      "Imports Completed\n"
     ]
    }
   ],
   "source": [
    "from PIL import Image\n",
    "import openslide # https://openslide.org/api/python/\n",
    "import os, sys\n",
    "currentdir = os.path.abspath(os.path.curdir)\n",
    "parentdir = os.path.dirname(currentdir)\n",
    "if parentdir not in sys.path:\n",
    "    sys.path.append(parentdir)\n",
    "from CustomDatasets import CustomDataset, S3\n",
    "\n",
    "print(\"Imports Completed\")"
   ]
  },
  {
   "cell_type": "code",
   "execution_count": 38,
   "metadata": {},
   "outputs": [
    {
     "name": "stdout",
     "output_type": "stream",
     "text": [
      "88\n",
      "['84045T_004.tif', '84046T_001.tif', '84046T_003.tif', '84202T_001.tif', '84202T_003.tif']\n"
     ]
    }
   ],
   "source": [
    "# Initialize Dataset\n",
    "Dataset = CustomDataset.CustomDataset()\n",
    "# Show the files referenced by the dataset\n",
    "print(len(Dataset.files))\n",
    "print(Dataset.files[:5])"
   ]
  },
  {
   "cell_type": "code",
   "execution_count": null,
   "metadata": {},
   "outputs": [],
   "source": []
  }
 ],
 "metadata": {
  "instance_type": "ml.g4dn.xlarge",
  "kernelspec": {
   "display_name": "Python 3 (PyTorch 1.6 Python 3.6 GPU Optimized)",
   "language": "python",
   "name": "python3__SAGEMAKER_INTERNAL__arn:aws:sagemaker:us-east-1:081325390199:image/pytorch-1.6-gpu-py36-cu110-ubuntu18.04-v3"
  },
  "language_info": {
   "codemirror_mode": {
    "name": "ipython",
    "version": 3
   },
   "file_extension": ".py",
   "mimetype": "text/x-python",
   "name": "python",
   "nbconvert_exporter": "python",
   "pygments_lexer": "ipython3",
   "version": "3.6.13"
  },
  "lcc_arn": "arn:aws:sagemaker:us-east-1:432722299252:studio-lifecycle-config/adins-test-install-thing"
 },
 "nbformat": 4,
 "nbformat_minor": 4
}
