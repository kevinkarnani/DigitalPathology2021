{
 "cells": [
  {
   "cell_type": "code",
   "execution_count": 1,
   "metadata": {},
   "outputs": [
    {
     "name": "stdout",
     "output_type": "stream",
     "text": [
      "Imports Completed\n"
     ]
    }
   ],
   "source": [
    "import os, sys\n",
    "currentdir = os.getcwd()\n",
    "parentdir = os.path.dirname(currentdir)\n",
    "important_dirs = ['/root/DigitalPathology2021/python_wsi_preprocessing/deephistopath/wsi/', \n",
    "                  '/root/DigitalPathology2021/python_wsi_preprocessing/deephistopath/',\n",
    "                 '/root/DigitalPathology2021/python_wsi_preprocessing/']\n",
    "if parentdir not in sys.path:\n",
    "    sys.path.append(parentdir)\n",
    "for important_dir in important_dirs:\n",
    "    if important_dir not in sys.path:\n",
    "        sys.path.append(important_dir)\n",
    "from CustomDatasets import CustomDataset, S3\n",
    "\n",
    "print(\"Imports Completed\")"
   ]
  },
  {
   "cell_type": "code",
   "execution_count": 2,
   "metadata": {},
   "outputs": [
    {
     "data": {
      "text/plain": [
       "['/opt/conda/lib/python36.zip',\n",
       " '/opt/conda/lib/python3.6',\n",
       " '/opt/conda/lib/python3.6/lib-dynload',\n",
       " '',\n",
       " '/opt/conda/lib/python3.6/site-packages',\n",
       " '/opt/conda/lib/python3.6/site-packages/IPython/extensions',\n",
       " '/root/.ipython',\n",
       " '/root/DigitalPathology2021',\n",
       " '/root/DigitalPathology2021/python_wsi_preprocessing/deephistopath/wsi/',\n",
       " '/root/DigitalPathology2021/python_wsi_preprocessing/deephistopath/',\n",
       " '/root/DigitalPathology2021/python_wsi_preprocessing/']"
      ]
     },
     "execution_count": 2,
     "metadata": {},
     "output_type": "execute_result"
    }
   ],
   "source": [
    "sys.path"
   ]
  },
  {
   "cell_type": "code",
   "execution_count": 3,
   "metadata": {},
   "outputs": [],
   "source": [
    "import slide"
   ]
  },
  {
   "cell_type": "code",
   "execution_count": 62,
   "metadata": {},
   "outputs": [],
   "source": [
    "# Initialize Dataset\n",
    "Dataset = CustomDataset.CustomDataset()\n",
    "# Show the files referenced by the dataset\n",
    "img = Dataset.make_openslide_img('local_imgs/84278T_001.tif')\n",
    "# Dataset.make_openslide_img('')"
   ]
  },
  {
   "cell_type": "code",
   "execution_count": 64,
   "metadata": {},
   "outputs": [
    {
     "name": "stdout",
     "output_type": "stream",
     "text": [
      "(50375, 32045)\n",
      "0\n",
      "(100, 100)\n"
     ]
    }
   ],
   "source": [
    "dim = (img.dimensions[0], img.dimensions[1])\n",
    "print(dim)\n",
    "level = 0\n",
    "print(level)\n",
    "size = (100,100)\n",
    "print(size)\n",
    "for idx in range(0, img.dimensions[0], 100):\n",
    "    for jdx in range(0, img.dimensions[1], 100):\n",
    "        x = img.read_region((idx, jdx), level, size)\n",
    "        if x.getcolors() is not None:\n",
    "            break\n"
   ]
  },
  {
   "cell_type": "code",
   "execution_count": 33,
   "metadata": {},
   "outputs": [],
   "source": [
    "smol_img = Dataset.get_img_by_name('84278T_001.tif')"
   ]
  }
 ],
 "metadata": {
  "instance_type": "ml.g4dn.xlarge",
  "kernelspec": {
   "display_name": "Python 3 (PyTorch 1.6 Python 3.6 GPU Optimized)",
   "language": "python",
   "name": "python3__SAGEMAKER_INTERNAL__arn:aws:sagemaker:us-east-1:081325390199:image/pytorch-1.6-gpu-py36-cu110-ubuntu18.04-v3"
  },
  "language_info": {
   "codemirror_mode": {
    "name": "ipython",
    "version": 3
   },
   "file_extension": ".py",
   "mimetype": "text/x-python",
   "name": "python",
   "nbconvert_exporter": "python",
   "pygments_lexer": "ipython3",
   "version": "3.6.13"
  },
  "lcc_arn": "arn:aws:sagemaker:us-east-1:432722299252:studio-lifecycle-config/adins-test-install-thing"
 },
 "nbformat": 4,
 "nbformat_minor": 4
}
