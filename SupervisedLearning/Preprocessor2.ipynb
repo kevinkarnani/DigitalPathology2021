{
 "cells": [
  {
   "cell_type": "code",
   "execution_count": 61,
   "metadata": {},
   "outputs": [
    {
     "name": "stdout",
     "output_type": "stream",
     "text": [
      "Imports Completed\n"
     ]
    }
   ],
   "source": [
    "import os, sys\n",
    "currentdir = os.path.abspath(os.path.curdir)\n",
    "parentdir = os.path.dirname(currentdir)\n",
    "if parentdir not in sys.path:\n",
    "    sys.path.append(parentdir)\n",
    "from CustomDatasets import CustomDataset, S3\n",
    "\n",
    "print(\"Imports Completed\")"
   ]
  },
  {
   "cell_type": "code",
   "execution_count": 62,
   "metadata": {},
   "outputs": [],
   "source": [
    "# Initialize Dataset\n",
    "Dataset = CustomDataset.CustomDataset()\n",
    "# Show the files referenced by the dataset\n",
    "img = Dataset.make_openslide_img('local_imgs/84278T_001.tif')\n",
    "# Dataset.make_openslide_img('')"
   ]
  },
  {
   "cell_type": "code",
   "execution_count": 64,
   "metadata": {},
   "outputs": [
    {
     "name": "stdout",
     "output_type": "stream",
     "text": [
      "(50375, 32045)\n",
      "0\n",
      "(100, 100)\n"
     ]
    }
   ],
   "source": [
    "dim = (img.dimensions[0], img.dimensions[1])\n",
    "print(dim)\n",
    "level = 0\n",
    "print(level)\n",
    "size = (100,100)\n",
    "print(size)\n",
    "for idx in range(0, img.dimensions[0], 100):\n",
    "    for jdx in range(0, img.dimensions[1], 100):\n",
    "        x = img.read_region((idx, jdx), level, size)\n",
    "        if x.getcolors() is not None:\n",
    "            break\n"
   ]
  },
  {
   "cell_type": "code",
   "execution_count": null,
   "metadata": {},
   "outputs": [],
   "source": [
    "x = img.read_region((0,0), 1, (1000, 1000))\n",
    "\n",
    "xx = img.get_thumbnail((512,512))\n",
    "xx.save('/root/DigitalPathology2021/SupervisedLearning/test.png')"
   ]
  },
  {
   "cell_type": "code",
   "execution_count": 33,
   "metadata": {},
   "outputs": [],
   "source": [
    "smol_img = Dataset.get_img_by_name('84278T_001.tif')"
   ]
  }
 ],
 "metadata": {
  "kernelspec": {
   "display_name": "Python 3 (PyTorch 1.6 Python 3.6 GPU Optimized)",
   "language": "python",
   "name": "python3__SAGEMAKER_INTERNAL__arn:aws:sagemaker:us-east-1:081325390199:image/pytorch-1.6-gpu-py36-cu110-ubuntu18.04-v3"
  },
  "language_info": {
   "codemirror_mode": {
    "name": "ipython",
    "version": 3
   },
   "file_extension": ".py",
   "mimetype": "text/x-python",
   "name": "python",
   "nbconvert_exporter": "python",
   "pygments_lexer": "ipython3",
   "version": "3.6.13"
  },
  "lcc_arn": "arn:aws:sagemaker:us-east-1:432722299252:studio-lifecycle-config/adins-test-install-thing"
 },
 "nbformat": 4,
 "nbformat_minor": 4
}
