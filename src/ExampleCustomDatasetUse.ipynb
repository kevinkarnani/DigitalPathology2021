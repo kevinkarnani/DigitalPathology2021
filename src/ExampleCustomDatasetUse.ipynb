{
 "cells": [
  {
   "cell_type": "markdown",
   "metadata": {},
   "source": [
    "## Introduction\n",
    "\n",
    "This notebook demonstrates how to use the TestDataset recommended for use in your personal testing - it is very lightweight. There are multiple configurations of TestDataset (0 is dog and cat, 1 is a single test image (1.1GB)).\n",
    "\n",
    "Please direct your questions to the python modules in CustomDatasets, but if you're still confused please don't hesitate to reach out to Adin!"
   ]
  },
  {
   "cell_type": "markdown",
   "metadata": {},
   "source": [
    "## Imports"
   ]
  },
  {
   "cell_type": "code",
   "execution_count": null,
   "metadata": {},
   "outputs": [],
   "source": [
    "from PIL import Image\n",
    "import openslide # https://openslide.org/api/python/\n",
    "\n",
    "from CustomDatasets import CustomDataset, S3\n",
    "# import for a notebook outside of the repo:  (your notebook should be 'next' to the repo's root) \n",
    "# from DigitalPathology2021.CustomDatasets import CustomDataset, S3\n",
    "\n",
    "print(\"Imports Completed\")"
   ]
  },
  {
   "cell_type": "markdown",
   "metadata": {},
   "source": [
    "## Demonstrating Simple TestDataset"
   ]
  },
  {
   "cell_type": "code",
   "execution_count": null,
   "metadata": {},
   "outputs": [],
   "source": [
    "# Inistialize Dataset\n",
    "Dataset = CustomDataset.TestDataset(configuration=0)\n",
    "# Show Dataset's instance variables - see files for details or ask Adin\n",
    "print(Dataset.__dict__)"
   ]
  },
  {
   "cell_type": "code",
   "execution_count": null,
   "metadata": {},
   "outputs": [],
   "source": [
    "# Demonstrate use loop \n",
    "# for larger files it is recommended that you delete the local copy before getting the next file\n",
    "for local_path, img in Dataset:\n",
    "    print(local_path, img.dimensions)\n",
    "    # os.remove(local_path)"
   ]
  },
  {
   "cell_type": "markdown",
   "metadata": {},
   "source": [
    "## Demonstrating Example CustomDataset Use"
   ]
  },
  {
   "cell_type": "code",
   "execution_count": null,
   "metadata": {},
   "outputs": [],
   "source": [
    "# Initialize Dataset\n",
    "Dataset = CustomDataset.CustomDataset()\n",
    "# Show the files referenced by the dataset\n",
    "print(len(Dataset.files))\n",
    "print(Dataset.files[:5])"
   ]
  },
  {
   "cell_type": "code",
   "execution_count": null,
   "metadata": {},
   "outputs": [],
   "source": [
    "# You will likely want to use only a few images for your testing\n",
    "imgs_you_want = [Dataset.files[:5]]\n",
    "# Filter out all of the other images\n",
    "Dataset.files = [f for f in Dataset.files if f in imgs_you_want]\n",
    "# Show the files that passed the filter\n",
    "print(len(Dataset.files))\n",
    "print(Dataset.files[:5])"
   ]
  },
  {
   "cell_type": "markdown",
   "metadata": {},
   "source": [
    "You should be able to use this dataset with pytorch training - see [linkyboi](https://pytorch.org/tutorials/beginner/data_loading_tutorial.html)"
   ]
  },
  {
   "cell_type": "code",
   "execution_count": null,
   "metadata": {},
   "outputs": [],
   "source": []
  }
 ],
 "metadata": {
  "instance_type": "ml.t3.medium",
  "kernelspec": {
   "display_name": "Python 3 (PyTorch 1.6 Python 3.6 CPU Optimized)",
   "language": "python",
   "name": "python3__SAGEMAKER_INTERNAL__arn:aws:sagemaker:us-east-1:081325390199:image/pytorch-1.6-cpu-py36-ubuntu16.04-v1"
  },
  "language_info": {
   "codemirror_mode": {
    "name": "ipython",
    "version": 3
   },
   "file_extension": ".py",
   "mimetype": "text/x-python",
   "name": "python",
   "nbconvert_exporter": "python",
   "pygments_lexer": "ipython3",
   "version": "3.6.13"
  },
  "lcc_arn": "arn:aws:sagemaker:us-east-1:432722299252:studio-lifecycle-config/adins-test-install-thing"
 },
 "nbformat": 4,
 "nbformat_minor": 4
}
