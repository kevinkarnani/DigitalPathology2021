{
 "cells": [
  {
   "cell_type": "code",
   "execution_count": 9,
   "metadata": {},
   "outputs": [],
   "source": [
    "from feature_manager import FeatureManager\n",
    "from PIL import Image\n",
    "import numpy as np\n",
    "from os import listdir, walk\n",
    "import matplotlib.pyplot as plt\n",
    "from pprint import pprint\n",
    "\n",
    "def load_image(fn):\n",
    "    img = Image.open(f'./feature-engineering-test-files/{fn}')\n",
    "    img.load()\n",
    "    data = np.asarray(img, dtype=\"int32\")\n",
    "    return data\n"
   ]
  },
  {
   "cell_type": "code",
   "execution_count": 14,
   "metadata": {},
   "outputs": [
    {
     "name": "stdout",
     "output_type": "stream",
     "text": [
      "{'geometric_features': {'Area': 508, 'AreaPerimeter': 4.7924528301886795}}\n",
      "{'geometric_features': {'Area': 435, 'AreaPerimeter': 4.438775510204081}}\n",
      "{'geometric_features': {'Area': 430, 'AreaPerimeter': 4.574468085106383}}\n",
      "{'geometric_features': {'Area': 660, 'AreaPerimeter': 3.8372093023255816}}\n",
      "{'geometric_features': {'Area': 433, 'AreaPerimeter': 4.510416666666667}}\n",
      "{'geometric_features': {'Area': 325, 'AreaPerimeter': 3.869047619047619}}\n",
      "{'geometric_features': {'Area': 602, 'AreaPerimeter': 5.375}}\n",
      "{'geometric_features': {'Area': 393, 'AreaPerimeter': 4.180851063829787}}\n"
     ]
    }
   ],
   "source": [
    "wk = tuple(walk(\"./feature-engineering-test-files\"))[0]\n",
    "\n",
    "for fn in wk[2]:\n",
    "    if '-m.jpg' in fn:\n",
    "        mask_im = load_image(fn)\n",
    "        im = load_image(fn.replace(\"-m.jpg\", \".jpg\"))\n",
    "        features = {\"geometric_features\":[\"Area\", \"AreaPerimeter\"]}\n",
    "        fm = FeatureManager(image=im, mask_image=mask_im, features=features)\n",
    "        pprint(fm())\n"
   ]
  }
 ],
 "metadata": {
  "interpreter": {
   "hash": "2d58e898dde0263bc564c6968b04150abacfd33eed9b19aaa8e45c040360e146"
  },
  "kernelspec": {
   "display_name": "Python 3.9.7 64-bit ('pytorch': conda)",
   "language": "python",
   "name": "python3"
  },
  "language_info": {
   "codemirror_mode": {
    "name": "ipython",
    "version": 3
   },
   "file_extension": ".py",
   "mimetype": "text/x-python",
   "name": "python",
   "nbconvert_exporter": "python",
   "pygments_lexer": "ipython3",
   "version": "3.9.7"
  },
  "orig_nbformat": 4
 },
 "nbformat": 4,
 "nbformat_minor": 2
}
