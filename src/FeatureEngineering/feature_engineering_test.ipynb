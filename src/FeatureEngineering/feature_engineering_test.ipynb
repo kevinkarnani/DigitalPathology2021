{
 "cells": [
  {
   "cell_type": "code",
   "execution_count": 4,
   "metadata": {},
   "outputs": [],
   "source": [
    "from geometric_features import *\n",
    "from PIL import Image\n",
    "import numpy as np\n",
    "from os import listdir, walk\n",
    "\n",
    "\n",
    "def load_image(fn):\n",
    "    img = Image.open(f'./feature-engineering-test-files/{fn}')\n",
    "    img.load()\n",
    "    data = np.asarray(img, dtype=\"int32\")\n",
    "    return data"
   ]
  },
  {
   "cell_type": "code",
   "execution_count": 5,
   "metadata": {},
   "outputs": [
    {
     "name": "stdout",
     "output_type": "stream",
     "text": [
      "Area: 508\n",
      "Perimeter: 106\n",
      "Area/Perimeter: 4.7924528301886795\n",
      "\n",
      "Area: 435\n",
      "Perimeter: 98\n",
      "Area/Perimeter: 4.438775510204081\n",
      "\n",
      "Area: 430\n",
      "Perimeter: 94\n",
      "Area/Perimeter: 4.574468085106383\n",
      "\n",
      "Area: 660\n",
      "Perimeter: 172\n",
      "Area/Perimeter: 3.8372093023255816\n",
      "\n",
      "Area: 433\n",
      "Perimeter: 96\n",
      "Area/Perimeter: 4.510416666666667\n",
      "\n",
      "Area: 325\n",
      "Perimeter: 84\n",
      "Area/Perimeter: 3.869047619047619\n",
      "\n",
      "Area: 602\n",
      "Perimeter: 112\n",
      "Area/Perimeter: 5.375\n",
      "\n",
      "Area: 393\n",
      "Perimeter: 94\n",
      "Area/Perimeter: 4.180851063829787\n",
      "\n"
     ]
    }
   ],
   "source": [
    "wk = tuple(walk(\"./feature-engineering-test-files\"))[0]\n",
    "\n",
    "for fn in wk[2]:\n",
    "    if '-m.jpg' in fn:\n",
    "        im = load_image(fn)\n",
    "        ar = Area(image=im)\n",
    "        print(f\"Area: {ar()}\")\n",
    "        pr = Perimeter(image=im)\n",
    "        print(f\"Perimeter: {pr()}\")\n",
    "        arp = AreaPerimeter(image=im)\n",
    "        print(f\"Area/Perimeter: {arp()}\\n\")\n"
   ]
  },
  {
   "cell_type": "code",
   "execution_count": 6,
   "metadata": {},
   "outputs": [
    {
     "name": "stdout",
     "output_type": "stream",
     "text": [
      "(array([78, 53, 45, 33, 19, 32, 23, 22,  9, 11]), array([1.   , 1.754, 2.508, 3.262, 4.016, 4.77 , 5.524, 6.278, 7.032,\n",
      "       7.786, 8.54 ], dtype=float32))\n"
     ]
    }
   ],
   "source": [
    "im = load_image(\"96-e-m.jpg\")\n",
    "\n",
    "import matplotlib.pyplot as plt\n",
    "\n",
    "idr = InsideRadialContact(image=im)\n",
    "i = idr()\n",
    "print(i)\n"
   ]
  }
 ],
 "metadata": {
  "interpreter": {
   "hash": "2d58e898dde0263bc564c6968b04150abacfd33eed9b19aaa8e45c040360e146"
  },
  "kernelspec": {
   "display_name": "Python 3.9.7 64-bit ('pytorch': conda)",
   "language": "python",
   "name": "python3"
  },
  "language_info": {
   "codemirror_mode": {
    "name": "ipython",
    "version": 3
   },
   "file_extension": ".py",
   "mimetype": "text/x-python",
   "name": "python",
   "nbconvert_exporter": "python",
   "pygments_lexer": "ipython3",
   "version": "3.9.7"
  },
  "orig_nbformat": 4
 },
 "nbformat": 4,
 "nbformat_minor": 2
}
