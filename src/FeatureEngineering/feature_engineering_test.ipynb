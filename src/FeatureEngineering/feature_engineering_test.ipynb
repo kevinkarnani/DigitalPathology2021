{
 "cells": [
  {
   "cell_type": "code",
   "execution_count": 3,
   "metadata": {},
   "outputs": [],
   "source": [
    "from feature_manager import FeatureManager\n",
    "from PIL import Image\n",
    "import numpy as np\n",
    "from os import walk\n",
    "from matplotlib.colors import rgb_to_hsv\n",
    "from pprint import pprint\n",
    "\n",
    "def load_image(fn):\n",
    "    img = Image.open(f'./feature-engineering-test-files/{fn}')\n",
    "    img.load()\n",
    "    data = np.asarray(img, dtype=\"int32\")\n",
    "    return data"
   ]
  },
  {
   "cell_type": "code",
   "execution_count": 4,
   "metadata": {},
   "outputs": [
    {
     "name": "stdout",
     "output_type": "stream",
     "text": [
      "{'color_features': {'MeanHSV': [0.791250928768977,\n",
      "                                0.23460878998364537,\n",
      "                                196.66867469879517]}}\n",
      "{'color_features': {'MeanHSV': [0.8859984691452469,\n",
      "                                0.24167162269857453,\n",
      "                                200.0498789346247]}}\n",
      "{'color_features': {'MeanHSV': [0.8375433797919069,\n",
      "                                0.4025457082215138,\n",
      "                                135.78840579710146]}}\n",
      "{'color_features': {'MeanHSV': [0.7972287572693264,\n",
      "                                0.31608699750069813,\n",
      "                                181.61684782608697]}}\n",
      "{'color_features': {'MeanHSV': [0.8460406836907312,\n",
      "                                0.31279343791562286,\n",
      "                                178.25834542815676]}}\n",
      "{'color_features': {'MeanHSV': [0.7779967395989136,\n",
      "                                0.3441477076554212,\n",
      "                                172.367816091954]}}\n",
      "{'color_features': {'MeanHSV': [0.8622931675309549,\n",
      "                                0.3719278633798543,\n",
      "                                164.19020021074815]}}\n",
      "{'color_features': {'MeanHSV': [0.5732998945297554,\n",
      "                                0.1917738038311235,\n",
      "                                213.37399145704794]}}\n"
     ]
    }
   ],
   "source": [
    "wk = tuple(walk(\"./feature-engineering-test-files\"))[0]\n",
    "\n",
    "for fn in wk[2]:\n",
    "    if '-m.jpg' in fn:\n",
    "        mask_im = load_image(fn)\n",
    "        im = load_image(fn.replace(\"-m.jpg\", \".jpg\"))\n",
    "        features = {\"color_features\": [\"MeanHSV\"]}\n",
    "        # features = None\n",
    "        # features = {\"geometric_features\": [\"Area\", \"Perimeter\"]}\n",
    "        fm = FeatureManager(image=im, mask_image=mask_im, feature_dict=features)\n",
    "        pprint(fm())\n"
   ]
  }
 ],
 "metadata": {
  "interpreter": {
   "hash": "2d58e898dde0263bc564c6968b04150abacfd33eed9b19aaa8e45c040360e146"
  },
  "kernelspec": {
   "display_name": "Python 3.9.7 64-bit ('pytorch': conda)",
   "language": "python",
   "name": "python3"
  },
  "language_info": {
   "codemirror_mode": {
    "name": "ipython",
    "version": 3
   },
   "file_extension": ".py",
   "mimetype": "text/x-python",
   "name": "python",
   "nbconvert_exporter": "python",
   "pygments_lexer": "ipython3",
   "version": "3.9.7"
  },
  "orig_nbformat": 4
 },
 "nbformat": 4,
 "nbformat_minor": 2
}
