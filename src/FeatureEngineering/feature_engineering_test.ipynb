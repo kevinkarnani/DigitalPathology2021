{
 "cells": [
  {
   "cell_type": "code",
   "execution_count": 1,
   "metadata": {},
   "outputs": [],
   "source": [
    "from feature_manager import FeatureManager\n",
    "from PIL import Image\n",
    "import numpy as np\n",
    "from os import walk\n",
    "from matplotlib.colors import rgb_to_hsv\n",
    "from pprint import pprint\n",
    "\n",
    "def load_image(fn):\n",
    "    img = Image.open(f'./feature-engineering-test-files/{fn}')\n",
    "    img.load()\n",
    "    data = np.asarray(img, dtype=\"int32\")\n",
    "    return data"
   ]
  },
  {
   "cell_type": "code",
   "execution_count": 2,
   "metadata": {},
   "outputs": [
    {
     "name": "stdout",
     "output_type": "stream",
     "text": [
      "{'color_features': {'HistogramHSV': (array([163, 159, 121, 153, 124,  95, 198, 660, 607, 220]),\n",
      "                                     array([ 22. ,  45.9,  69.8,  93.7, 117.6, 141.5, 165.4, 189.3, 213.2,\n",
      "       237.1, 261. ]))}}\n",
      "{'color_features': {'HistogramHSV': (array([129, 167, 110, 235, 142,  82, 110, 381, 664, 480]),\n",
      "                                     array([ 27. ,  50.4,  73.8,  97.2, 120.6, 144. , 167.4, 190.8, 214.2,\n",
      "       237.6, 261. ]))}}\n",
      "{'color_features': {'HistogramHSV': (array([193, 390, 229, 298, 373, 440, 195,  96, 139, 147]),\n",
      "                                     array([ 26. ,  48.9,  71.8,  94.7, 117.6, 140.5, 163.4, 186.3, 209.2,\n",
      "       232.1, 255. ]))}}\n",
      "{'color_features': {'HistogramHSV': (array([224, 321, 228, 211, 114, 106, 201, 258, 440, 397]),\n",
      "                                     array([ 25. ,  48.6,  72.2,  95.8, 119.4, 143. , 166.6, 190.2, 213.8,\n",
      "       237.4, 261. ]))}}\n",
      "{'color_features': {'HistogramHSV': (array([185, 181, 144, 207, 140, 206, 400, 533, 340, 164]),\n",
      "                                     array([ 35. ,  57.6,  80.2, 102.8, 125.4, 148. , 170.6, 193.2, 215.8,\n",
      "       238.4, 261. ]))}}\n",
      "{'color_features': {'HistogramHSV': (array([146, 175,  88, 185, 498, 334, 168, 131, 281, 494]),\n",
      "                                     array([ 24. ,  47.7,  71.4,  95.1, 118.8, 142.5, 166.2, 189.9, 213.6,\n",
      "       237.3, 261. ]))}}\n",
      "{'color_features': {'HistogramHSV': (array([138, 197, 192, 260, 439, 411, 238, 280, 271,  74]),\n",
      "                                     array([ 34. ,  56.7,  79.4, 102.1, 124.8, 147.5, 170.2, 192.9, 215.6,\n",
      "       238.3, 261. ]))}}\n",
      "{'color_features': {'HistogramHSV': (array([ 152,  183,   64,  111,  193,  151,  116,  104,  136, 1290]),\n",
      "                                     array([ 20. ,  44.1,  68.2,  92.3, 116.4, 140.5, 164.6, 188.7, 212.8,\n",
      "       236.9, 261. ]))}}\n"
     ]
    }
   ],
   "source": [
    "wk = tuple(walk(\"./feature-engineering-test-files\"))[0]\n",
    "\n",
    "for fn in wk[2]:\n",
    "    if '-m.jpg' in fn:\n",
    "        mask_im = load_image(fn)\n",
    "        im = load_image(fn.replace(\"-m.jpg\", \".jpg\"))\n",
    "        features = {\"color_features\": [\"HistogramHSV\"]}\n",
    "        # features = None\n",
    "        # features = {\"geometric_features\": [\"Area\", \"Perimeter\"]}\n",
    "        fm = FeatureManager(image=im, mask_image=mask_im, feature_dict=features)\n",
    "        pprint(fm())"
   ]
  }
 ],
 "metadata": {
  "interpreter": {
   "hash": "2d58e898dde0263bc564c6968b04150abacfd33eed9b19aaa8e45c040360e146"
  },
  "kernelspec": {
   "display_name": "Python 3.9.7 64-bit ('pytorch': conda)",
   "language": "python",
   "name": "python3"
  },
  "language_info": {
   "codemirror_mode": {
    "name": "ipython",
    "version": 3
   },
   "file_extension": ".py",
   "mimetype": "text/x-python",
   "name": "python",
   "nbconvert_exporter": "python",
   "pygments_lexer": "ipython3",
   "version": "3.9.7"
  },
  "orig_nbformat": 4
 },
 "nbformat": 4,
 "nbformat_minor": 2
}
