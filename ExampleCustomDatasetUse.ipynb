{
 "cells": [
  {
   "cell_type": "code",
   "execution_count": 1,
   "metadata": {},
   "outputs": [
    {
     "name": "stdout",
     "output_type": "stream",
     "text": [
      "Imports Completed\n"
     ]
    }
   ],
   "source": [
    "from PIL import Image\n",
    "import openslide\n",
    "\n",
    "#from DigitalPathology2021.CustomDatasets import CustomDataset, S3\n",
    "from CustomDatasets import CustomDataset, S3\n",
    "\n",
    "print(\"Imports Completed\")"
   ]
  },
  {
   "cell_type": "code",
   "execution_count": 2,
   "metadata": {},
   "outputs": [
    {
     "name": "stdout",
     "output_type": "stream",
     "text": [
      "['cat.tiff', 'dog.tiff']\n"
     ]
    }
   ],
   "source": [
    "# This just tests on dog.tiff and cat.tiff\n",
    "files_filter = lambda f: f in ['dog.tiff', 'cat.tiff']\n",
    "Dataset = CustomDataset.CustomDataset(files_filter=files_filter, force_getitem=True)\n",
    "print(Dataset.files)"
   ]
  },
  {
   "cell_type": "code",
   "execution_count": 4,
   "metadata": {},
   "outputs": [
    {
     "name": "stdout",
     "output_type": "stream",
     "text": [
      "(504, 504)\n",
      "(320, 345)\n"
     ]
    }
   ],
   "source": [
    "for i, img in enumerate(Dataset):\n",
    "    dims = img.dimensions\n",
    "    print(dims)\n",
    "    region = img.read_region((0,0), 0, (dims[0]//2, dims[1]//2))\n",
    "    region.save(f\"{i}.png\")"
   ]
  },
  {
   "cell_type": "code",
   "execution_count": null,
   "metadata": {},
   "outputs": [],
   "source": []
  }
 ],
 "metadata": {
  "instance_type": "ml.t3.medium",
  "kernelspec": {
   "display_name": "Python 3 (PyTorch 1.6 Python 3.6 CPU Optimized)",
   "language": "python",
   "name": "python3__SAGEMAKER_INTERNAL__arn:aws:sagemaker:us-east-1:081325390199:image/pytorch-1.6-cpu-py36-ubuntu16.04-v1"
  },
  "language_info": {
   "codemirror_mode": {
    "name": "ipython",
    "version": 3
   },
   "file_extension": ".py",
   "mimetype": "text/x-python",
   "name": "python",
   "nbconvert_exporter": "python",
   "pygments_lexer": "ipython3",
   "version": "3.6.13"
  },
  "lcc_arn": "arn:aws:sagemaker:us-east-1:432722299252:studio-lifecycle-config/adins-test-install-thing"
 },
 "nbformat": 4,
 "nbformat_minor": 4
}
